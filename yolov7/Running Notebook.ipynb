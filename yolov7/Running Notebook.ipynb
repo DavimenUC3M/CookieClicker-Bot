{
 "cells": [
  {
   "cell_type": "markdown",
   "id": "e38274dc",
   "metadata": {},
   "source": [
    "## Train"
   ]
  },
  {
   "cell_type": "code",
   "execution_count": null,
   "id": "05bd85ae",
   "metadata": {},
   "outputs": [],
   "source": [
    "!python train.py --workers 8 --device 0 --batch-size 8 --data data/cookies.yaml --img 640 640 --cfg cfg/training/yolov7-tiny.yaml --weights runs/train/cookie_detector_mini/weights/best.pt --name cookie_detector_mini --hyp data/hyp.scratch.tiny.yaml --epochs 100"
   ]
  },
  {
   "cell_type": "markdown",
   "id": "1ceb3dd6",
   "metadata": {},
   "source": [
    "## Test"
   ]
  },
  {
   "cell_type": "code",
   "execution_count": null,
   "id": "ca5b47a7",
   "metadata": {},
   "outputs": [],
   "source": [
    "!python detect.py --source ../Cookie_Cliker_Dataset/test/images --weights runs/train/cookie_detector_mini/weights/best.pt --conf-thres 0.8"
   ]
  },
  {
   "cell_type": "markdown",
   "id": "6c6a0546",
   "metadata": {},
   "source": [
    "## Export to ONNX"
   ]
  },
  {
   "cell_type": "code",
   "execution_count": null,
   "id": "19fd0bd3",
   "metadata": {},
   "outputs": [],
   "source": [
    "!python export.py --weights runs/train/cookie_detector_mini/weights/best.pt --grid --end2end --simplify --topk-all 100 --iou-thres 0.65 --conf-thres 0.85 --img-size 640 640 --max-wh 640"
   ]
  }
 ],
 "metadata": {
  "kernelspec": {
   "display_name": "Python 3 (ipykernel)",
   "language": "python",
   "name": "python3"
  },
  "language_info": {
   "codemirror_mode": {
    "name": "ipython",
    "version": 3
   },
   "file_extension": ".py",
   "mimetype": "text/x-python",
   "name": "python",
   "nbconvert_exporter": "python",
   "pygments_lexer": "ipython3",
   "version": "3.10.8"
  }
 },
 "nbformat": 4,
 "nbformat_minor": 5
}
