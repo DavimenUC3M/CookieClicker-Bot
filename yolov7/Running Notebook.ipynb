{
 "cells": [
  {
   "cell_type": "code",
   "execution_count": 9,
   "id": "ca5b47a7",
   "metadata": {},
   "outputs": [
    {
     "name": "stdout",
     "output_type": "stream",
     "text": [
      "Namespace(weights=['runs/train/cookie_detector2/weights/best.pt'], source='../Cookie_Cliker_Dataset/test/images', img_size=640, conf_thres=0.8, iou_thres=0.45, device='', view_img=False, save_txt=False, save_conf=False, nosave=False, classes=None, agnostic_nms=False, augment=False, update=False, project='runs/detect', name='exp', exist_ok=False, no_trace=False)\n",
      "Fusing layers... \n",
      "RepConv.fuse_repvgg_block\n",
      "RepConv.fuse_repvgg_block\n",
      "RepConv.fuse_repvgg_block\n",
      "IDetect.fuse\n",
      " Convert model to Traced-model... \n",
      " traced_script_module saved! \n",
      " model is traced! \n",
      "\n",
      "Done. (26.2ms) Inference, (1.9ms) NMS\n",
      " The image with the result is saved in: runs\\detect\\exp6\\Captura.PNG\n",
      "1 GoldenCartridge, Done. (9.2ms) Inference, (3.8ms) NMS\n",
      " The image with the result is saved in: runs\\detect\\exp6\\cookie103_PNG.rf.6712173052dd2c459945a2631775a82d.jpg\n",
      "2 GoldenCartridges, Done. (9.5ms) Inference, (0.9ms) NMS\n",
      " The image with the result is saved in: runs\\detect\\exp6\\cookie109_PNG.rf.c6eb572d4e1d97910ec92fa6773b82be.jpg\n",
      "1 GoldenCartridge, Done. (9.5ms) Inference, (0.9ms) NMS\n",
      " The image with the result is saved in: runs\\detect\\exp6\\cookie116_PNG.rf.6b2da3c182ae7a6b9d327bc86d0f6aaa.jpg\n",
      "1 GoldenCartridge, Done. (9.5ms) Inference, (1.0ms) NMS\n",
      " The image with the result is saved in: runs\\detect\\exp6\\cookie139_PNG.rf.6f792426ae6beb044ea8104b55712a9f.jpg\n",
      "39 GoldenCartridges, Done. (9.5ms) Inference, (1.5ms) NMS\n",
      " The image with the result is saved in: runs\\detect\\exp6\\cookie162_PNG.rf.5bcbd89b2edd14179ade4ebb88efeb61.jpg\n",
      "39 RedCookies, Done. (9.5ms) Inference, (0.9ms) NMS\n",
      " The image with the result is saved in: runs\\detect\\exp6\\cookie168_PNG.rf.0a82226e13d105bc31fd12ba432d3bec.jpg\n",
      "1 GoldenCookie, Done. (9.5ms) Inference, (0.9ms) NMS\n",
      " The image with the result is saved in: runs\\detect\\exp6\\cookie182_PNG.rf.af8b8e121602348f16e0637f4b41b6c5.jpg\n",
      "1 GoldenCookie, Done. (8.5ms) Inference, (2.4ms) NMS\n",
      " The image with the result is saved in: runs\\detect\\exp6\\cookie189_PNG.rf.b9d9497029979507be8edd0a07183447.jpg\n",
      "33 GoldenCookies, Done. (10.0ms) Inference, (0.9ms) NMS\n",
      " The image with the result is saved in: runs\\detect\\exp6\\cookie199_PNG.rf.a29dd907b28382a75627bdabdf44822c.jpg\n",
      "1 GoldenCookie, Done. (9.0ms) Inference, (1.0ms) NMS\n",
      " The image with the result is saved in: runs\\detect\\exp6\\cookie19_PNG.rf.75e9d5355e0b320bd7573f912b9a4dba.jpg\n",
      "1 GoldenCookie, Done. (9.5ms) Inference, (0.9ms) NMS\n",
      " The image with the result is saved in: runs\\detect\\exp6\\cookie26_PNG.rf.89284babfb1bf36f8ddddedc16756afd.jpg\n",
      "1 GoldenCookie, Done. (8.5ms) Inference, (0.9ms) NMS\n",
      " The image with the result is saved in: runs\\detect\\exp6\\cookie45_PNG.rf.ac00df076439022cba6668c006eb0464.jpg\n",
      "1 GoldenCookie, Done. (8.5ms) Inference, (0.9ms) NMS\n",
      " The image with the result is saved in: runs\\detect\\exp6\\cookie49_PNG.rf.989004f29a7b02157897018bd58c8179.jpg\n",
      "1 RedCookie, Done. (9.5ms) Inference, (0.9ms) NMS\n",
      " The image with the result is saved in: runs\\detect\\exp6\\cookie68_PNG.rf.569dc7e3d4a851adefbe0bcbb1f8f24f.jpg\n",
      "1 RedCookie, Done. (10.0ms) Inference, (1.0ms) NMS\n",
      " The image with the result is saved in: runs\\detect\\exp6\\cookie70_PNG.rf.bf9ddba03844d99149004be58f4e70c4.jpg\n",
      "1 RedCartridge, Done. (9.5ms) Inference, (1.9ms) NMS\n",
      " The image with the result is saved in: runs\\detect\\exp6\\cookie86_PNG.rf.c589ea2d0859840c235070b45e66a632.jpg\n",
      "1 RedCartridge, Done. (9.5ms) Inference, (1.0ms) NMS\n",
      " The image with the result is saved in: runs\\detect\\exp6\\cookie87_PNG.rf.3d18ea162544ebe32256a7305ad6ddfc.jpg\n",
      "1 GoldenCartridge, Done. (8.5ms) Inference, (1.0ms) NMS\n",
      " The image with the result is saved in: runs\\detect\\exp6\\cookie88_PNG.rf.b5c4127018057aa609a4a491b42f63c5.jpg\n",
      "1 GoldenCookie, Done. (9.1ms) Inference, (1.0ms) NMS\n",
      " The image with the result is saved in: runs\\detect\\exp6\\cookie8_PNG.rf.afb600f7b5b3527da6216d7759d13f24.jpg\n",
      "Done. (1.016s)\n"
     ]
    },
    {
     "name": "stderr",
     "output_type": "stream",
     "text": [
      "YOLOR  2022-12-29 torch 1.13.1 CUDA:0 (NVIDIA GeForce RTX 3080, 10239.375MB)\n",
      "\n",
      "C:\\Users\\Davimen\\anaconda3\\envs\\clicker\\lib\\site-packages\\torch\\functional.py:504: UserWarning: torch.meshgrid: in an upcoming release, it will be required to pass the indexing argument. (Triggered internally at C:\\cb\\pytorch_1000000000000\\work\\aten\\src\\ATen\\native\\TensorShape.cpp:3191.)\n",
      "  return _VF.meshgrid(tensors, **kwargs)  # type: ignore[attr-defined]\n",
      "Model Summary: 314 layers, 36497954 parameters, 6194944 gradients, 103.2 GFLOPS\n"
     ]
    }
   ],
   "source": [
    "!python detect.py --source ../Cookie_Cliker_Dataset/test/images --weights runs/train/cookie_detector/weights/best.pt --conf-thres 0.8"
   ]
  }
 ],
 "metadata": {
  "kernelspec": {
   "display_name": "Python 3 (ipykernel)",
   "language": "python",
   "name": "python3"
  },
  "language_info": {
   "codemirror_mode": {
    "name": "ipython",
    "version": 3
   },
   "file_extension": ".py",
   "mimetype": "text/x-python",
   "name": "python",
   "nbconvert_exporter": "python",
   "pygments_lexer": "ipython3",
   "version": "3.8.8"
  }
 },
 "nbformat": 4,
 "nbformat_minor": 5
}
